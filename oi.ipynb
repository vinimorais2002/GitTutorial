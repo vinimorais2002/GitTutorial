{
  "cells": [
    {
      "cell_type": "markdown",
      "metadata": {
        "id": "view-in-github",
        "colab_type": "text"
      },
      "source": [
        "<a href=\"https://colab.research.google.com/github/vinimorais2002/GitTutorial/blob/main/oi.ipynb\" target=\"_parent\"><img src=\"https://colab.research.google.com/assets/colab-badge.svg\" alt=\"Open In Colab\"/></a>"
      ]
    },
    {
      "cell_type": "code",
      "execution_count": null,
      "metadata": {
        "id": "bbVzIr3RI2PS"
      },
      "outputs": [],
      "source": [
        "import pandas as pd # importando a biblioteca pandas para leitura de dados\n",
        "import plotly.express as px # importando plotly para criação de gráficos\n",
        "import io"
      ]
    },
    {
      "cell_type": "code",
      "source": [
        "from google.colab import files\n",
        "uploaded = files.upload()"
      ],
      "metadata": {
        "id": "tPs2BJ6vK1VI"
      },
      "execution_count": null,
      "outputs": []
    },
    {
      "cell_type": "code",
      "execution_count": null,
      "metadata": {
        "id": "rl_r-YykI2PY"
      },
      "outputs": [],
      "source": [
        "# definindo um dataframe a partir do arquivo excel\n",
        "\n",
        "df = pd.read_excel(io.BytesIO(uploaded['sala.xlsx']))\n",
        "df"
      ]
    },
    {
      "cell_type": "code",
      "execution_count": null,
      "metadata": {
        "id": "1RQgn0czI2Pb"
      },
      "outputs": [],
      "source": [
        "# vendo valores repetidos\n",
        "\n",
        "df['Cargo'].value_counts()"
      ]
    },
    {
      "cell_type": "code",
      "execution_count": null,
      "metadata": {
        "id": "dbclQ_-oI2Pc"
      },
      "outputs": [],
      "source": [
        "# criando um data frame para os cargos mais repetidos\n",
        "\n",
        "programador = df[df['Cargo'] == 'Programador']\n",
        "anpro = df[df['Cargo'] == 'Analista Programador']\n",
        "ansup = df[df['Cargo'] == 'Analista de Suporte']\n",
        "ansis = df[df['Cargo'] == 'Analista de sistemas']"
      ]
    },
    {
      "cell_type": "code",
      "execution_count": null,
      "metadata": {
        "id": "KK_6zOYBI2Pe"
      },
      "outputs": [],
      "source": [
        "programador"
      ]
    },
    {
      "cell_type": "code",
      "execution_count": null,
      "metadata": {
        "id": "0yul_DN7I2Pf"
      },
      "outputs": [],
      "source": [
        "anpro"
      ]
    },
    {
      "cell_type": "code",
      "execution_count": null,
      "metadata": {
        "id": "2rh_n0JfI2Pg"
      },
      "outputs": [],
      "source": [
        "ansup"
      ]
    },
    {
      "cell_type": "code",
      "execution_count": null,
      "metadata": {
        "id": "EfYn_PmvI2Pi"
      },
      "outputs": [],
      "source": [
        "ansis"
      ]
    },
    {
      "cell_type": "code",
      "execution_count": null,
      "metadata": {
        "id": "N6Y4POFRI2Pj"
      },
      "outputs": [],
      "source": [
        "# transformando a coluna 'Terceiro' para uma variável de tipo lista em cada data frame\n",
        "tipo_sal = input('Digite qual média de salário quer visualizar(CLT/Terceiro):')\n",
        "while tipo_sal != 'Terceiro' and tipo_sal != 'CLT':\n",
        "    print('Digite um valor válido')\n",
        "    tipo_sal = input('Digite qual média de salário quer visualizar(CLT/Terceiro):')\n",
        "if tipo_sal == 'Terceiro':\n",
        "\n",
        "    t_programador = programador['Terceiro'].tolist()\n",
        "    t_anpro = anpro['Terceiro'].tolist()\n",
        "    t_ansup =ansup['Terceiro'].tolist()\n",
        "    t_ansis = ansis['Terceiro'].tolist()\n",
        "\n",
        "    soma_t_pro = 0\n",
        "    for i in range (len(t_programador)):\n",
        "        soma_t_pro = soma_t_pro + t_programador[i]\n",
        "    media_pro = soma_t_pro/len(t_programador)\n",
        "    print(soma_t_pro, media_pro)\n",
        "\n",
        "    soma_t_anpro = 0\n",
        "    for i in range (len(t_anpro)):\n",
        "        soma_t_anpro = soma_t_anpro + t_anpro[i]\n",
        "    media_anpro = soma_t_anpro/len(t_anpro)\n",
        "    print(soma_t_anpro, media_anpro)\n",
        "\n",
        "    soma_t_ansup = 0\n",
        "    for i in range (len(t_ansup)):\n",
        "        soma_t_ansup = soma_t_ansup + t_ansup[i]\n",
        "    media_ansup = soma_t_ansup/len(t_ansup)\n",
        "    print(soma_t_ansup, media_ansup)\n",
        "\n",
        "    soma_t_ansis = 0\n",
        "    for i in range (len(t_ansis)):\n",
        "        soma_t_ansis = soma_t_ansis + t_ansis[i]\n",
        "    media_ansis = soma_t_ansis/len(t_ansis)\n",
        "    print(soma_t_ansis, media_ansis)\n",
        "\n",
        "    column = ['Cargo', 'Terceiro']\n",
        "    line = ['', '','','']\n",
        "    dados = [['Analista de Suporte', media_ansup], ['Programador', media_pro], ['Analista programador', media_anpro]\n",
        "    , ['Analista de sistemas', media_ansis]]\n",
        "    tb = pd.DataFrame(data=dados, index=line, columns=column) \n",
        "    print(tb)\n",
        "\n",
        "# para o CLT\n",
        "\n",
        "elif tipo_sal == 'CLT':\n",
        "\n",
        "    clt_programador = programador['CLT'].tolist()\n",
        "    clt_anpro = anpro['CLT'].tolist()\n",
        "    clt_ansup =ansup['CLT'].tolist()\n",
        "    clt_ansis = ansis['CLT'].tolist()\n",
        "\n",
        "    soma_clt_pro = 0\n",
        "    for i in range (len(clt_programador)):\n",
        "        soma_clt_pro = soma_clt_pro + clt_programador[i]\n",
        "    media_clt_pro = soma_clt_pro/len(clt_programador)\n",
        "    print(soma_clt_pro, media_clt_pro)\n",
        "\n",
        "    soma_clt_anpro = 0\n",
        "    for i in range (len(clt_anpro)):\n",
        "        soma_clt_anpro = soma_clt_anpro + clt_anpro[i]\n",
        "    media_clt_anpro = soma_clt_anpro/len(clt_anpro)\n",
        "    print(soma_clt_anpro, media_clt_anpro)\n",
        "\n",
        "    soma_clt_ansup = 0\n",
        "    for i in range (len(clt_ansup)):\n",
        "        soma_clt_ansup = soma_clt_ansup + clt_ansup[i]\n",
        "    media_clt_ansup = soma_clt_ansup/len(clt_ansup)\n",
        "    print(soma_clt_ansup, media_clt_ansup)\n",
        "\n",
        "    soma_clt_ansis = 0\n",
        "    for i in range (len(clt_ansis)):\n",
        "        soma_clt_ansis = soma_clt_ansis + clt_ansis[i]\n",
        "    media_clt_ansis = soma_clt_ansis/len(clt_ansis)\n",
        "    print(soma_clt_ansis, media_clt_ansis)\n",
        "\n",
        "    column = ['Cargo', 'Terceiro']\n",
        "    line = ['', '','','']\n",
        "    dados = [['Analista de Suporte', media_clt_ansup], ['Programador', media_clt_pro], \n",
        "    ['Analista programador', media_clt_anpro]\n",
        "    ,['Analista de sistemas', media_clt_ansis]]\n",
        "    tb = pd.DataFrame(data=dados, index=line, columns=column) \n",
        "    print(tb)\n",
        "    \n"
      ]
    },
    {
      "cell_type": "code",
      "execution_count": null,
      "metadata": {
        "id": "WmplXKfMI2Pn"
      },
      "outputs": [],
      "source": [
        "tipo_g = input('Qual tipo de gráfico você quer ver?(Pizza/Barra):')"
      ]
    },
    {
      "cell_type": "code",
      "execution_count": null,
      "metadata": {
        "id": "0tKb-mEQI2Po"
      },
      "outputs": [],
      "source": [
        "# criando um gráfico de barra \n",
        "if tipo_g == 'Barra':  \n",
        "    barra = px.bar(tb, x = 'Cargo', y = 'Terceiro', color='Terceiro',template='plotly_dark')\n",
        "    display(barra)\n",
        "elif tipo_g == 'Pizza':\n",
        "    pizza = px.pie(tb, values='Terceiro', names='Cargo', color_discrete_sequence=px.colors.sequential.Viridis, title='Pizza/Terceiro')\n",
        "    pizza.show()"
      ]
    }
  ],
  "metadata": {
    "interpreter": {
      "hash": "f9f85f796d01129d0dd105a088854619f454435301f6ffec2fea96ecbd9be4ac"
    },
    "kernelspec": {
      "display_name": "Python 3.9.12 64-bit",
      "language": "python",
      "name": "python3"
    },
    "language_info": {
      "codemirror_mode": {
        "name": "ipython",
        "version": 3
      },
      "file_extension": ".py",
      "mimetype": "text/x-python",
      "name": "python",
      "nbconvert_exporter": "python",
      "pygments_lexer": "ipython3",
      "version": "3.10.2"
    },
    "orig_nbformat": 4,
    "colab": {
      "name": "oi.ipynb",
      "provenance": [],
      "include_colab_link": true
    }
  },
  "nbformat": 4,
  "nbformat_minor": 0
}